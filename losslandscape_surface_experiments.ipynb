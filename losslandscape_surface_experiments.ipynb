{
  "nbformat": 4,
  "nbformat_minor": 0,
  "metadata": {
    "colab": {
      "name": "losslandscape_surface_experiments.ipynb",
      "provenance": [],
      "collapsed_sections": [],
      "authorship_tag": "ABX9TyPwaecrMpsE7uBRvgb3hZ06",
      "include_colab_link": true
    },
    "kernelspec": {
      "name": "python3",
      "display_name": "Python 3"
    },
    "accelerator": "GPU"
  },
  "cells": [
    {
      "cell_type": "markdown",
      "metadata": {
        "id": "view-in-github",
        "colab_type": "text"
      },
      "source": [
        "<a href=\"https://colab.research.google.com/github/vitalab/neuralteleportation/blob/save_load_model_losslandscape/losslandscape_surface_experiments.ipynb\" target=\"_parent\"><img src=\"https://colab.research.google.com/assets/colab-badge.svg\" alt=\"Open In Colab\"/></a>"
      ]
    },
    {
      "cell_type": "code",
      "metadata": {
        "id": "yfuTjPWZWitW",
        "colab_type": "code",
        "colab": {}
      },
      "source": [
        "!git clone https://github.com/vitalab/neuralteleportation.git\n",
        "!git checkout origin save_load_model_losslandscape"
      ],
      "execution_count": null,
      "outputs": []
    }
  ]
}