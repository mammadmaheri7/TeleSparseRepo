{
 "cells": [
  {
   "cell_type": "code",
   "execution_count": 2,
   "metadata": {},
   "outputs": [
    {
     "name": "stdout",
     "output_type": "stream",
     "text": [
      "/bin/bash: which: line 1: syntax error: unexpected end of file\n",
      "/bin/bash: error importing function definition for `which'\n",
      "/bin/bash: module: line 1: syntax error: unexpected end of file\n",
      "/bin/bash: error importing function definition for `module'\n",
      "/bin/bash: scl: line 1: syntax error: unexpected end of file\n",
      "/bin/bash: error importing function definition for `scl'\n",
      "/bin/bash: ml: line 1: syntax error: unexpected end of file\n",
      "/bin/bash: error importing function definition for `ml'\n",
      "Name: tensorflow\n",
      "Version: 2.15.0\n",
      "Summary: TensorFlow is an open source machine learning framework for everyone.\n",
      "Home-page: https://www.tensorflow.org/\n",
      "Author: Google Inc.\n",
      "Author-email: packages@tensorflow.org\n",
      "License: Apache 2.0\n",
      "Location: /rds/general/user/mm6322/home/.conda/envs/zkml_bench_env/lib/python3.9/site-packages\n",
      "Requires: absl-py, astunparse, flatbuffers, gast, google-pasta, grpcio, h5py, keras, libclang, ml-dtypes, numpy, opt-einsum, packaging, protobuf, setuptools, six, tensorboard, tensorflow-estimator, tensorflow-io-gcs-filesystem, termcolor, typing-extensions, wrapt\n",
      "Required-by: \n"
     ]
    }
   ],
   "source": [
    "!pip show tensorflow"
   ]
  },
  {
   "cell_type": "code",
   "execution_count": 1,
   "metadata": {},
   "outputs": [
    {
     "name": "stderr",
     "output_type": "stream",
     "text": [
      "2024-10-29 18:07:35.134854: E external/local_xla/xla/stream_executor/cuda/cuda_dnn.cc:9261] Unable to register cuDNN factory: Attempting to register factory for plugin cuDNN when one has already been registered\n",
      "2024-10-29 18:07:35.134991: E external/local_xla/xla/stream_executor/cuda/cuda_fft.cc:607] Unable to register cuFFT factory: Attempting to register factory for plugin cuFFT when one has already been registered\n",
      "2024-10-29 18:07:35.279840: E external/local_xla/xla/stream_executor/cuda/cuda_blas.cc:1515] Unable to register cuBLAS factory: Attempting to register factory for plugin cuBLAS when one has already been registered\n",
      "2024-10-29 18:07:35.415637: I tensorflow/core/platform/cpu_feature_guard.cc:182] This TensorFlow binary is optimized to use available CPU instructions in performance-critical operations.\n",
      "To enable the following instructions: AVX2 FMA, in other operations, rebuild TensorFlow with the appropriate compiler flags.\n",
      "2024-10-29 18:07:48.368734: W tensorflow/compiler/tf2tensorrt/utils/py_utils.cc:38] TF-TRT Warning: Could not find TensorRT\n",
      "2024-10-29 18:08:12.018403: E external/local_xla/xla/stream_executor/cuda/cuda_driver.cc:274] failed call to cuInit: CUDA_ERROR_NO_DEVICE: no CUDA-capable device is detected\n",
      "/rds/general/user/mm6322/home/.conda/envs/zkml_bench_env/lib/python3.9/site-packages/keras/src/engine/training.py:3103: UserWarning: You are saving your model as an HDF5 file via `model.save()`. This file format is considered legacy. We recommend using instead the native Keras format, e.g. `model.save('my_model.keras')`.\n",
      "  saving_api.save_model(\n"
     ]
    },
    {
     "name": "stdout",
     "output_type": "stream",
     "text": [
      "1/1 [==============================] - 0s 425ms/step\n",
      "[[-0.08078687 -0.14151557]]\n"
     ]
    }
   ],
   "source": [
    "import tensorflow as tf\n",
    "from tensorflow.keras import layers, models\n",
    "\n",
    "def ResNet20Cifar100(num_classes=100):\n",
    "    inputs = tf.keras.Input(shape=(32, 32, 3))  # Assuming input image size is 32x32x3\n",
    "\n",
    "    # Initial Conv Layer\n",
    "    # x = layers.Conv2D(16, kernel_size=3, strides=1, padding='valid', use_bias=False)(inputs)\n",
    "    # TODO: undo\n",
    "    # x = layers.Conv2D(1, kernel_size=3, strides=1, padding='same', use_bias=False)(inputs)\n",
    "    x = layers.Conv2D(16, kernel_size=3, strides=1, padding='valid', use_bias=False)(inputs)\n",
    "    x = layers.BatchNormalization()(x)\n",
    "    x = layers.ReLU()(x)\n",
    "\n",
    "    # # Layer 1 Block 1\n",
    "    # residual = x\n",
    "    x = layers.Conv2D(16, kernel_size=3, strides=1, padding='valid', use_bias=False)(x)\n",
    "    x = layers.BatchNormalization()(x)\n",
    "    x = layers.ReLU()(x)\n",
    "    x = layers.Conv2D(16, kernel_size=3, strides=1, padding='valid', use_bias=False)(x)\n",
    "    x = layers.BatchNormalization()(x)\n",
    "    # x = layers.Add()([x, residual])\n",
    "    x = layers.ReLU()(x)\n",
    "\n",
    "    # # Layer 1 Block 2\n",
    "    # residual = x\n",
    "    # x = layers.Conv2D(16, kernel_size=3, strides=1, padding='valid', use_bias=False)(x)\n",
    "    # x = layers.BatchNormalization()(x)\n",
    "    # x = layers.ReLU()(x)\n",
    "    # x = layers.Conv2D(16, kernel_size=3, strides=1, padding='valid', use_bias=False)(x)\n",
    "    # x = layers.BatchNormalization()(x)\n",
    "    # # x = layers.Add()([x, residual])\n",
    "    # x = layers.ReLU()(x)\n",
    "\n",
    "    # # Layer 1 Block 3\n",
    "    # residual = x\n",
    "    # x = layers.Conv2D(16, kernel_size=3, strides=1, padding='valid', use_bias=False)(x)\n",
    "    # x = layers.BatchNormalization()(x)\n",
    "    # x = layers.ReLU()(x)\n",
    "    # x = layers.Conv2D(16, kernel_size=3, strides=1, padding='valid', use_bias=False)(x)\n",
    "    # x = layers.BatchNormalization()(x)\n",
    "    # # x = layers.Add()([x, residual])\n",
    "    # x = layers.ReLU()(x)\n",
    "\n",
    "    # # Layer 2 Block 1 (with downsampling)\n",
    "    # residual = layers.Conv2D(32, kernel_size=1, strides=2, use_bias=False)(x)\n",
    "    # residual = layers.BatchNormalization()(residual)\n",
    "    # x = layers.Conv2D(32, kernel_size=3, strides=2, padding='valid', use_bias=False)(x)\n",
    "    # x = layers.BatchNormalization()(x)\n",
    "    # x = layers.ReLU()(x)\n",
    "    # x = layers.Conv2D(32, kernel_size=3, strides=1, padding='valid', use_bias=False)(x)\n",
    "    # x = layers.BatchNormalization()(x)\n",
    "    # # x = layers.Add()([x, residual])\n",
    "    # x = layers.ReLU()(x)\n",
    "\n",
    "    # # Layer 2 Block 2\n",
    "    # residual = x\n",
    "    # x = layers.Conv2D(32, kernel_size=3, strides=1, padding='valid', use_bias=False)(x)\n",
    "    # x = layers.BatchNormalization()(x)\n",
    "    # x = layers.ReLU()(x)\n",
    "    # x = layers.Conv2D(32, kernel_size=3, strides=1, padding='valid', use_bias=False)(x)\n",
    "    # x = layers.BatchNormalization()(x)\n",
    "    # # x = layers.Add()([x, residual])\n",
    "    # x = layers.ReLU()(x)\n",
    "\n",
    "    # # Layer 2 Block 3\n",
    "    # residual = x\n",
    "    # x = layers.Conv2D(32, kernel_size=3, strides=1, padding='valid', use_bias=False)(x)\n",
    "    # x = layers.BatchNormalization()(x)\n",
    "    # x = layers.ReLU()(x)\n",
    "    # x = layers.Conv2D(32, kernel_size=3, strides=1, padding='valid', use_bias=False)(x)\n",
    "    # x = layers.BatchNormalization()(x)\n",
    "    # # x = layers.Add()([x, residual])\n",
    "    # x = layers.ReLU()(x)\n",
    "\n",
    "    # # Layer 3 Block 1 (with downsampling)\n",
    "    # residual = layers.Conv2D(64, kernel_size=1, strides=2, use_bias=False)(x)\n",
    "    # residual = layers.BatchNormalization()(residual)\n",
    "    # x = layers.Conv2D(64, kernel_size=3, strides=2, padding='valid', use_bias=False)(x)\n",
    "    # x = layers.BatchNormalization()(x)\n",
    "    # x = layers.ReLU()(x)\n",
    "    # x = layers.Conv2D(64, kernel_size=3, strides=1, padding='valid', use_bias=False)(x)\n",
    "    # x = layers.BatchNormalization()(x)\n",
    "    # # x = layers.Add()([x, residual])\n",
    "    # x = layers.ReLU()(x)\n",
    "\n",
    "    # # Layer 3 Block 2\n",
    "    # residual = x\n",
    "    # x = layers.Conv2D(64, kernel_size=3, strides=1, padding='valid', use_bias=False)(x)\n",
    "    # x = layers.BatchNormalization()(x)\n",
    "    # x = layers.ReLU()(x)\n",
    "    # x = layers.Conv2D(64, kernel_size=3, strides=1, padding='valid', use_bias=False)(x)\n",
    "    # x = layers.BatchNormalization()(x)\n",
    "    # # x = layers.Add()([x, residual])\n",
    "    # x = layers.ReLU()(x)\n",
    "\n",
    "    # # Layer 3 Block 3\n",
    "    # residual = x\n",
    "    # x = layers.Conv2D(64, kernel_size=3, strides=1, padding='valid', use_bias=False)(x)\n",
    "    # x = layers.BatchNormalization()(x)\n",
    "    # x = layers.ReLU()(x)\n",
    "    # x = layers.Conv2D(64, kernel_size=3, strides=1, padding='valid', use_bias=False)(x)\n",
    "    # x = layers.BatchNormalization()(x)\n",
    "    # # x = layers.Add()([x, residual])\n",
    "    # x = layers.ReLU()(x)\n",
    "\n",
    "    # Pooling and classification\n",
    "    x = layers.GlobalAveragePooling2D()(x)\n",
    "    outputs = layers.Dense(num_classes)(x)\n",
    "\n",
    "    # Create model\n",
    "    model = models.Model(inputs, outputs)\n",
    "    return model\n",
    "\n",
    "# Create and compile model\n",
    "# model = ResNet20Cifar100()\n",
    "# TODO: undo\n",
    "model = ResNet20Cifar100(2)\n",
    "model.compile(optimizer='adam', loss='categorical_crossentropy', metrics=['accuracy'])\n",
    "\n",
    "# Save model to .h5\n",
    "model.save('resnet20.h5')\n",
    "\n",
    "# inference the model with random input\n",
    "import numpy as np\n",
    "x = np.random.rand(1, 32, 32, 3)\n",
    "y = model.predict(x)\n",
    "print(y)"
   ]
  },
  {
   "cell_type": "code",
   "execution_count": 3,
   "metadata": {},
   "outputs": [],
   "source": [
    "# generate input.json which the key is \"in\" and the value is tolist on x (shape = (128,128,3))\n",
    "\n",
    "# for i in range(len(X_test)):\n",
    "#     X = [str(int(x * float(10**18))) for x in X_test[i].flatten().tolist()]\n",
    "#     X = np.array(X).reshape(28, 28, 1).tolist() \n",
    "#     with open(f'X_test/{i}.json', 'w') as f:\n",
    "#         json.dump({\"in\": X}, f)\n",
    "import json\n",
    "random_data = np.random.rand(32, 32, 3)\n",
    "random_data *= (10**18)\n",
    "\n",
    "with open('input.json', 'w') as f:\n",
    "    json.dump({\"in\": random_data.tolist()}, f)"
   ]
  },
  {
   "cell_type": "code",
   "execution_count": 4,
   "metadata": {},
   "outputs": [
    {
     "name": "stdout",
     "output_type": "stream",
     "text": [
      "Model: \"model\"\n",
      "_________________________________________________________________\n",
      " Layer (type)                Output Shape              Param #   \n",
      "=================================================================\n",
      " input_1 (InputLayer)        [(None, 32, 32, 3)]       0         \n",
      "                                                                 \n",
      " conv2d (Conv2D)             (None, 30, 30, 16)        432       \n",
      "                                                                 \n",
      " batch_normalization (Batch  (None, 30, 30, 16)        64        \n",
      " Normalization)                                                  \n",
      "                                                                 \n",
      " re_lu (ReLU)                (None, 30, 30, 16)        0         \n",
      "                                                                 \n",
      " conv2d_1 (Conv2D)           (None, 28, 28, 16)        2304      \n",
      "                                                                 \n",
      " batch_normalization_1 (Bat  (None, 28, 28, 16)        64        \n",
      " chNormalization)                                                \n",
      "                                                                 \n",
      " re_lu_1 (ReLU)              (None, 28, 28, 16)        0         \n",
      "                                                                 \n",
      " conv2d_2 (Conv2D)           (None, 26, 26, 16)        2304      \n",
      "                                                                 \n",
      " batch_normalization_2 (Bat  (None, 26, 26, 16)        64        \n",
      " chNormalization)                                                \n",
      "                                                                 \n",
      " re_lu_2 (ReLU)              (None, 26, 26, 16)        0         \n",
      "                                                                 \n",
      " global_average_pooling2d (  (None, 16)                0         \n",
      " GlobalAveragePooling2D)                                         \n",
      "                                                                 \n",
      " dense (Dense)               (None, 2)                 34        \n",
      "                                                                 \n",
      "=================================================================\n",
      "Total params: 5266 (20.57 KB)\n",
      "Trainable params: 5170 (20.20 KB)\n",
      "Non-trainable params: 96 (384.00 Byte)\n",
      "_________________________________________________________________\n"
     ]
    }
   ],
   "source": [
    "model.summary()"
   ]
  },
  {
   "cell_type": "code",
   "execution_count": 5,
   "metadata": {},
   "outputs": [
    {
     "name": "stdout",
     "output_type": "stream",
     "text": [
      "[16, 16, 16]\n"
     ]
    }
   ],
   "source": [
    "# finding output shapes of layers model\n",
    "layers = []\n",
    "\n",
    "for layer in model.layers:\n",
    "    if \"conv\" in layer.name:\n",
    "        layer_output = layer.output\n",
    "        if isinstance(layer_output, list):\n",
    "            for l in layer_output:\n",
    "                layers.append(l.shape[-1])\n",
    "        else:\n",
    "            layers.append(layer_output.shape[-1])\n",
    "\n",
    "print(layers)"
   ]
  },
  {
   "cell_type": "code",
   "execution_count": 6,
   "metadata": {},
   "outputs": [
    {
     "name": "stdout",
     "output_type": "stream",
     "text": [
      "input_1 [(None, 32, 32, 3)]\n",
      "conv2d (None, 30, 30, 16)\n",
      "batch_normalization (None, 30, 30, 16)\n",
      "re_lu (None, 30, 30, 16)\n",
      "conv2d_1 (None, 28, 28, 16)\n",
      "batch_normalization_1 (None, 28, 28, 16)\n",
      "re_lu_1 (None, 28, 28, 16)\n",
      "conv2d_2 (None, 26, 26, 16)\n",
      "batch_normalization_2 (None, 26, 26, 16)\n",
      "re_lu_2 (None, 26, 26, 16)\n",
      "global_average_pooling2d (None, 16)\n",
      "dense (None, 2)\n"
     ]
    }
   ],
   "source": [
    "for layer in model.layers:\n",
    "    print(layer.name, layer.output_shape)"
   ]
  },
  {
   "cell_type": "code",
   "execution_count": null,
   "metadata": {},
   "outputs": [],
   "source": []
  }
 ],
 "metadata": {
  "kernelspec": {
   "display_name": "Python [conda env:zkml_bench_env]",
   "language": "python",
   "name": "conda-env-zkml_bench_env-py"
  },
  "language_info": {
   "codemirror_mode": {
    "name": "ipython",
    "version": 3
   },
   "file_extension": ".py",
   "mimetype": "text/x-python",
   "name": "python",
   "nbconvert_exporter": "python",
   "pygments_lexer": "ipython3",
   "version": "3.9.6"
  }
 },
 "nbformat": 4,
 "nbformat_minor": 2
}
