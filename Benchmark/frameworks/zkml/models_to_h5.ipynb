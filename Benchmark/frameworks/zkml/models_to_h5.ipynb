{
 "cells": [
  {
   "cell_type": "code",
   "execution_count": 2,
   "metadata": {},
   "outputs": [
    {
     "name": "stderr",
     "output_type": "stream",
     "text": [
      "/Users/mm6322/Phd research/ZKML-Benchmark/ZKML-Benchmark/zkml_bench_env/lib/python3.9/site-packages/keras/src/engine/training.py:3000: UserWarning: You are saving your model as an HDF5 file via `model.save()`. This file format is considered legacy. We recommend using instead the native Keras format, e.g. `model.save('my_model.keras')`.\n",
      "  saving_api.save_model(\n"
     ]
    },
    {
     "name": "stdout",
     "output_type": "stream",
     "text": [
      "1/1 [==============================] - 0s 184ms/step\n",
      "[[-0.0056331  -0.15790765]]\n"
     ]
    }
   ],
   "source": [
    "import tensorflow as tf\n",
    "from tensorflow.keras import layers, models\n",
    "\n",
    "def ResNet20Cifar100(num_classes=100):\n",
    "    inputs = tf.keras.Input(shape=(32, 32, 3))  # Assuming input image size is 32x32x3\n",
    "\n",
    "    # Initial Conv Layer\n",
    "    # x = layers.Conv2D(16, kernel_size=3, strides=1, padding='valid', use_bias=False)(inputs)\n",
    "    # TODO: undo\n",
    "    # x = layers.Conv2D(1, kernel_size=3, strides=1, padding='same', use_bias=False)(inputs)\n",
    "    x = layers.Conv2D(16, kernel_size=3, strides=1, padding='valid', use_bias=False)(inputs)\n",
    "    x = layers.BatchNormalization()(x)\n",
    "    x = layers.ReLU()(x)\n",
    "\n",
    "    # # Layer 1 Block 1\n",
    "    # residual = x\n",
    "    x = layers.Conv2D(16, kernel_size=3, strides=1, padding='valid', use_bias=False)(x)\n",
    "    x = layers.BatchNormalization()(x)\n",
    "    x = layers.ReLU()(x)\n",
    "    x = layers.Conv2D(16, kernel_size=3, strides=1, padding='valid', use_bias=False)(x)\n",
    "    x = layers.BatchNormalization()(x)\n",
    "    # x = layers.Add()([x, residual])\n",
    "    x = layers.ReLU()(x)\n",
    "\n",
    "    # # Layer 1 Block 2\n",
    "    # residual = x\n",
    "    # x = layers.Conv2D(16, kernel_size=3, strides=1, padding='valid', use_bias=False)(x)\n",
    "    # x = layers.BatchNormalization()(x)\n",
    "    # x = layers.ReLU()(x)\n",
    "    # x = layers.Conv2D(16, kernel_size=3, strides=1, padding='valid', use_bias=False)(x)\n",
    "    # x = layers.BatchNormalization()(x)\n",
    "    # # x = layers.Add()([x, residual])\n",
    "    # x = layers.ReLU()(x)\n",
    "\n",
    "    # # Layer 1 Block 3\n",
    "    # residual = x\n",
    "    # x = layers.Conv2D(16, kernel_size=3, strides=1, padding='valid', use_bias=False)(x)\n",
    "    # x = layers.BatchNormalization()(x)\n",
    "    # x = layers.ReLU()(x)\n",
    "    # x = layers.Conv2D(16, kernel_size=3, strides=1, padding='valid', use_bias=False)(x)\n",
    "    # x = layers.BatchNormalization()(x)\n",
    "    # # x = layers.Add()([x, residual])\n",
    "    # x = layers.ReLU()(x)\n",
    "\n",
    "    # # Layer 2 Block 1 (with downsampling)\n",
    "    # residual = layers.Conv2D(32, kernel_size=1, strides=2, use_bias=False)(x)\n",
    "    # residual = layers.BatchNormalization()(residual)\n",
    "    # x = layers.Conv2D(32, kernel_size=3, strides=2, padding='valid', use_bias=False)(x)\n",
    "    # x = layers.BatchNormalization()(x)\n",
    "    # x = layers.ReLU()(x)\n",
    "    # x = layers.Conv2D(32, kernel_size=3, strides=1, padding='valid', use_bias=False)(x)\n",
    "    # x = layers.BatchNormalization()(x)\n",
    "    # # x = layers.Add()([x, residual])\n",
    "    # x = layers.ReLU()(x)\n",
    "\n",
    "    # # Layer 2 Block 2\n",
    "    # residual = x\n",
    "    # x = layers.Conv2D(32, kernel_size=3, strides=1, padding='valid', use_bias=False)(x)\n",
    "    # x = layers.BatchNormalization()(x)\n",
    "    # x = layers.ReLU()(x)\n",
    "    # x = layers.Conv2D(32, kernel_size=3, strides=1, padding='valid', use_bias=False)(x)\n",
    "    # x = layers.BatchNormalization()(x)\n",
    "    # # x = layers.Add()([x, residual])\n",
    "    # x = layers.ReLU()(x)\n",
    "\n",
    "    # # Layer 2 Block 3\n",
    "    # residual = x\n",
    "    # x = layers.Conv2D(32, kernel_size=3, strides=1, padding='valid', use_bias=False)(x)\n",
    "    # x = layers.BatchNormalization()(x)\n",
    "    # x = layers.ReLU()(x)\n",
    "    # x = layers.Conv2D(32, kernel_size=3, strides=1, padding='valid', use_bias=False)(x)\n",
    "    # x = layers.BatchNormalization()(x)\n",
    "    # # x = layers.Add()([x, residual])\n",
    "    # x = layers.ReLU()(x)\n",
    "\n",
    "    # # Layer 3 Block 1 (with downsampling)\n",
    "    # residual = layers.Conv2D(64, kernel_size=1, strides=2, use_bias=False)(x)\n",
    "    # residual = layers.BatchNormalization()(residual)\n",
    "    # x = layers.Conv2D(64, kernel_size=3, strides=2, padding='valid', use_bias=False)(x)\n",
    "    # x = layers.BatchNormalization()(x)\n",
    "    # x = layers.ReLU()(x)\n",
    "    # x = layers.Conv2D(64, kernel_size=3, strides=1, padding='valid', use_bias=False)(x)\n",
    "    # x = layers.BatchNormalization()(x)\n",
    "    # # x = layers.Add()([x, residual])\n",
    "    # x = layers.ReLU()(x)\n",
    "\n",
    "    # # Layer 3 Block 2\n",
    "    # residual = x\n",
    "    # x = layers.Conv2D(64, kernel_size=3, strides=1, padding='valid', use_bias=False)(x)\n",
    "    # x = layers.BatchNormalization()(x)\n",
    "    # x = layers.ReLU()(x)\n",
    "    # x = layers.Conv2D(64, kernel_size=3, strides=1, padding='valid', use_bias=False)(x)\n",
    "    # x = layers.BatchNormalization()(x)\n",
    "    # # x = layers.Add()([x, residual])\n",
    "    # x = layers.ReLU()(x)\n",
    "\n",
    "    # # Layer 3 Block 3\n",
    "    # residual = x\n",
    "    # x = layers.Conv2D(64, kernel_size=3, strides=1, padding='valid', use_bias=False)(x)\n",
    "    # x = layers.BatchNormalization()(x)\n",
    "    # x = layers.ReLU()(x)\n",
    "    # x = layers.Conv2D(64, kernel_size=3, strides=1, padding='valid', use_bias=False)(x)\n",
    "    # x = layers.BatchNormalization()(x)\n",
    "    # # x = layers.Add()([x, residual])\n",
    "    # x = layers.ReLU()(x)\n",
    "\n",
    "    # Pooling and classification\n",
    "    x = layers.GlobalAveragePooling2D()(x)\n",
    "    outputs = layers.Dense(num_classes)(x)\n",
    "\n",
    "    # Create model\n",
    "    model = models.Model(inputs, outputs)\n",
    "    return model\n",
    "\n",
    "# Create and compile model\n",
    "# model = ResNet20Cifar100()\n",
    "# TODO: undo\n",
    "model = ResNet20Cifar100(2)\n",
    "model.compile(optimizer='adam', loss='categorical_crossentropy', metrics=['accuracy'])\n",
    "\n",
    "# Save model to .h5\n",
    "model.save('resnet20.h5')\n",
    "\n",
    "# inference the model with random input\n",
    "import numpy as np\n",
    "x = np.random.rand(1, 32, 32, 3)\n",
    "y = model.predict(x)\n",
    "print(y)"
   ]
  },
  {
   "cell_type": "code",
   "execution_count": 3,
   "metadata": {},
   "outputs": [],
   "source": [
    "# generate input.json which the key is \"in\" and the value is tolist on x (shape = (128,128,3))\n",
    "\n",
    "# for i in range(len(X_test)):\n",
    "#     X = [str(int(x * float(10**18))) for x in X_test[i].flatten().tolist()]\n",
    "#     X = np.array(X).reshape(28, 28, 1).tolist() \n",
    "#     with open(f'X_test/{i}.json', 'w') as f:\n",
    "#         json.dump({\"in\": X}, f)\n",
    "import json\n",
    "random_data = np.random.rand(32, 32, 3)\n",
    "random_data *= (10**18)\n",
    "\n",
    "with open('input.json', 'w') as f:\n",
    "    json.dump({\"in\": random_data.tolist()}, f)"
   ]
  },
  {
   "cell_type": "code",
   "execution_count": 4,
   "metadata": {},
   "outputs": [
    {
     "name": "stdout",
     "output_type": "stream",
     "text": [
      "Model: \"model\"\n",
      "_________________________________________________________________\n",
      " Layer (type)                Output Shape              Param #   \n",
      "=================================================================\n",
      " input_2 (InputLayer)        [(None, 32, 32, 3)]       0         \n",
      "                                                                 \n",
      " conv2d_3 (Conv2D)           (None, 30, 30, 16)        432       \n",
      "                                                                 \n",
      " batch_normalization_3 (Bat  (None, 30, 30, 16)        64        \n",
      " chNormalization)                                                \n",
      "                                                                 \n",
      " re_lu_2 (ReLU)              (None, 30, 30, 16)        0         \n",
      "                                                                 \n",
      " conv2d_4 (Conv2D)           (None, 28, 28, 16)        2304      \n",
      "                                                                 \n",
      " batch_normalization_4 (Bat  (None, 28, 28, 16)        64        \n",
      " chNormalization)                                                \n",
      "                                                                 \n",
      " re_lu_3 (ReLU)              (None, 28, 28, 16)        0         \n",
      "                                                                 \n",
      " conv2d_5 (Conv2D)           (None, 26, 26, 16)        2304      \n",
      "                                                                 \n",
      " batch_normalization_5 (Bat  (None, 26, 26, 16)        64        \n",
      " chNormalization)                                                \n",
      "                                                                 \n",
      " re_lu_4 (ReLU)              (None, 26, 26, 16)        0         \n",
      "                                                                 \n",
      " global_average_pooling2d (  (None, 16)                0         \n",
      " GlobalAveragePooling2D)                                         \n",
      "                                                                 \n",
      " dense (Dense)               (None, 2)                 34        \n",
      "                                                                 \n",
      "=================================================================\n",
      "Total params: 5266 (20.57 KB)\n",
      "Trainable params: 5170 (20.20 KB)\n",
      "Non-trainable params: 96 (384.00 Byte)\n",
      "_________________________________________________________________\n"
     ]
    }
   ],
   "source": [
    "model.summary()"
   ]
  },
  {
   "cell_type": "code",
   "execution_count": 5,
   "metadata": {},
   "outputs": [
    {
     "name": "stdout",
     "output_type": "stream",
     "text": [
      "[16, 16, 16]\n"
     ]
    }
   ],
   "source": [
    "# finding output shapes of layers model\n",
    "layers = []\n",
    "\n",
    "for layer in model.layers:\n",
    "    if \"conv\" in layer.name:\n",
    "        layer_output = layer.output\n",
    "        if isinstance(layer_output, list):\n",
    "            for l in layer_output:\n",
    "                layers.append(l.shape[-1])\n",
    "        else:\n",
    "            layers.append(layer_output.shape[-1])\n",
    "\n",
    "print(layers)"
   ]
  },
  {
   "cell_type": "code",
   "execution_count": 6,
   "metadata": {},
   "outputs": [
    {
     "name": "stdout",
     "output_type": "stream",
     "text": [
      "input_2 [(None, 32, 32, 3)]\n",
      "conv2d_3 (None, 30, 30, 16)\n",
      "batch_normalization_3 (None, 30, 30, 16)\n",
      "re_lu_2 (None, 30, 30, 16)\n",
      "conv2d_4 (None, 28, 28, 16)\n",
      "batch_normalization_4 (None, 28, 28, 16)\n",
      "re_lu_3 (None, 28, 28, 16)\n",
      "conv2d_5 (None, 26, 26, 16)\n",
      "batch_normalization_5 (None, 26, 26, 16)\n",
      "re_lu_4 (None, 26, 26, 16)\n",
      "global_average_pooling2d (None, 16)\n",
      "dense (None, 2)\n"
     ]
    }
   ],
   "source": [
    "for layer in model.layers:\n",
    "    print(layer.name, layer.output_shape)"
   ]
  },
  {
   "cell_type": "code",
   "execution_count": null,
   "metadata": {},
   "outputs": [],
   "source": []
  }
 ],
 "metadata": {
  "kernelspec": {
   "display_name": "zkml_bench_env",
   "language": "python",
   "name": "python3"
  },
  "language_info": {
   "codemirror_mode": {
    "name": "ipython",
    "version": 3
   },
   "file_extension": ".py",
   "mimetype": "text/x-python",
   "name": "python",
   "nbconvert_exporter": "python",
   "pygments_lexer": "ipython3",
   "version": "3.9.6"
  }
 },
 "nbformat": 4,
 "nbformat_minor": 2
}
