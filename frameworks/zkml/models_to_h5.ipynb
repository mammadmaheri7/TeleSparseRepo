{
 "cells": [
  {
   "cell_type": "code",
   "execution_count": 6,
   "metadata": {},
   "outputs": [
    {
     "name": "stdout",
     "output_type": "stream",
     "text": [
      "1/1 [==============================] - 0s 112ms/step\n",
      "[[-0.05385249 -0.24810067]]\n"
     ]
    }
   ],
   "source": [
    "import tensorflow as tf\n",
    "from tensorflow.keras import layers, models\n",
    "\n",
    "def ResNet20Cifar100(num_classes=100):\n",
    "    inputs = tf.keras.Input(shape=(32, 32, 3))  # Assuming input image size is 32x32x3\n",
    "\n",
    "    # Initial Conv Layer\n",
    "    # x = layers.Conv2D(16, kernel_size=3, strides=1, padding='valid', use_bias=False)(inputs)\n",
    "    # TODO: undo\n",
    "    # x = layers.Conv2D(1, kernel_size=3, strides=1, padding='same', use_bias=False)(inputs)\n",
    "    x = layers.Conv2D(16, kernel_size=3, strides=1, padding='valid', use_bias=False)(inputs)\n",
    "    x = layers.BatchNormalization()(x)\n",
    "    x = layers.ReLU()(x)\n",
    "\n",
    "    # # Layer 1 Block 1\n",
    "    # residual = x\n",
    "    # x = layers.Conv2D(16, kernel_size=3, strides=1, padding='valid', use_bias=False)(x)\n",
    "    # x = layers.BatchNormalization()(x)\n",
    "    # x = layers.ReLU()(x)\n",
    "    # x = layers.Conv2D(16, kernel_size=3, strides=1, padding='valid', use_bias=False)(x)\n",
    "    # x = layers.BatchNormalization()(x)\n",
    "    # # x = layers.Add()([x, residual])\n",
    "    # x = layers.ReLU()(x)\n",
    "\n",
    "    # # Layer 1 Block 2\n",
    "    # residual = x\n",
    "    # x = layers.Conv2D(16, kernel_size=3, strides=1, padding='valid', use_bias=False)(x)\n",
    "    # x = layers.BatchNormalization()(x)\n",
    "    # x = layers.ReLU()(x)\n",
    "    # x = layers.Conv2D(16, kernel_size=3, strides=1, padding='valid', use_bias=False)(x)\n",
    "    # x = layers.BatchNormalization()(x)\n",
    "    # # x = layers.Add()([x, residual])\n",
    "    # x = layers.ReLU()(x)\n",
    "\n",
    "    # # Layer 1 Block 3\n",
    "    # residual = x\n",
    "    # x = layers.Conv2D(16, kernel_size=3, strides=1, padding='valid', use_bias=False)(x)\n",
    "    # x = layers.BatchNormalization()(x)\n",
    "    # x = layers.ReLU()(x)\n",
    "    # x = layers.Conv2D(16, kernel_size=3, strides=1, padding='valid', use_bias=False)(x)\n",
    "    # x = layers.BatchNormalization()(x)\n",
    "    # # x = layers.Add()([x, residual])\n",
    "    # x = layers.ReLU()(x)\n",
    "\n",
    "    # # Layer 2 Block 1 (with downsampling)\n",
    "    # residual = layers.Conv2D(32, kernel_size=1, strides=2, use_bias=False)(x)\n",
    "    # residual = layers.BatchNormalization()(residual)\n",
    "    # x = layers.Conv2D(32, kernel_size=3, strides=2, padding='valid', use_bias=False)(x)\n",
    "    # x = layers.BatchNormalization()(x)\n",
    "    # x = layers.ReLU()(x)\n",
    "    # x = layers.Conv2D(32, kernel_size=3, strides=1, padding='valid', use_bias=False)(x)\n",
    "    # x = layers.BatchNormalization()(x)\n",
    "    # # x = layers.Add()([x, residual])\n",
    "    # x = layers.ReLU()(x)\n",
    "\n",
    "    # # Layer 2 Block 2\n",
    "    # residual = x\n",
    "    # x = layers.Conv2D(32, kernel_size=3, strides=1, padding='valid', use_bias=False)(x)\n",
    "    # x = layers.BatchNormalization()(x)\n",
    "    # x = layers.ReLU()(x)\n",
    "    # x = layers.Conv2D(32, kernel_size=3, strides=1, padding='valid', use_bias=False)(x)\n",
    "    # x = layers.BatchNormalization()(x)\n",
    "    # # x = layers.Add()([x, residual])\n",
    "    # x = layers.ReLU()(x)\n",
    "\n",
    "    # # Layer 2 Block 3\n",
    "    # residual = x\n",
    "    # x = layers.Conv2D(32, kernel_size=3, strides=1, padding='valid', use_bias=False)(x)\n",
    "    # x = layers.BatchNormalization()(x)\n",
    "    # x = layers.ReLU()(x)\n",
    "    # x = layers.Conv2D(32, kernel_size=3, strides=1, padding='valid', use_bias=False)(x)\n",
    "    # x = layers.BatchNormalization()(x)\n",
    "    # # x = layers.Add()([x, residual])\n",
    "    # x = layers.ReLU()(x)\n",
    "\n",
    "    # # Layer 3 Block 1 (with downsampling)\n",
    "    # residual = layers.Conv2D(64, kernel_size=1, strides=2, use_bias=False)(x)\n",
    "    # residual = layers.BatchNormalization()(residual)\n",
    "    # x = layers.Conv2D(64, kernel_size=3, strides=2, padding='valid', use_bias=False)(x)\n",
    "    # x = layers.BatchNormalization()(x)\n",
    "    # x = layers.ReLU()(x)\n",
    "    # x = layers.Conv2D(64, kernel_size=3, strides=1, padding='valid', use_bias=False)(x)\n",
    "    # x = layers.BatchNormalization()(x)\n",
    "    # # x = layers.Add()([x, residual])\n",
    "    # x = layers.ReLU()(x)\n",
    "\n",
    "    # # Layer 3 Block 2\n",
    "    # residual = x\n",
    "    # x = layers.Conv2D(64, kernel_size=3, strides=1, padding='valid', use_bias=False)(x)\n",
    "    # x = layers.BatchNormalization()(x)\n",
    "    # x = layers.ReLU()(x)\n",
    "    # x = layers.Conv2D(64, kernel_size=3, strides=1, padding='valid', use_bias=False)(x)\n",
    "    # x = layers.BatchNormalization()(x)\n",
    "    # # x = layers.Add()([x, residual])\n",
    "    # x = layers.ReLU()(x)\n",
    "\n",
    "    # # Layer 3 Block 3\n",
    "    # residual = x\n",
    "    # x = layers.Conv2D(64, kernel_size=3, strides=1, padding='valid', use_bias=False)(x)\n",
    "    # x = layers.BatchNormalization()(x)\n",
    "    # x = layers.ReLU()(x)\n",
    "    # x = layers.Conv2D(64, kernel_size=3, strides=1, padding='valid', use_bias=False)(x)\n",
    "    # x = layers.BatchNormalization()(x)\n",
    "    # # x = layers.Add()([x, residual])\n",
    "    # x = layers.ReLU()(x)\n",
    "\n",
    "    # Pooling and classification\n",
    "    x = layers.GlobalAveragePooling2D()(x)\n",
    "    outputs = layers.Dense(num_classes)(x)\n",
    "\n",
    "    # Create model\n",
    "    model = models.Model(inputs, outputs)\n",
    "    return model\n",
    "\n",
    "# Create and compile model\n",
    "# model = ResNet20Cifar100()\n",
    "# TODO: undo\n",
    "model = ResNet20Cifar100(2)\n",
    "model.compile(optimizer='adam', loss='categorical_crossentropy', metrics=['accuracy'])\n",
    "\n",
    "# Save model to .h5\n",
    "model.save('resnet20.h5')\n",
    "\n",
    "# inference the model with random input\n",
    "import numpy as np\n",
    "x = np.random.rand(1, 32, 32, 3)\n",
    "y = model.predict(x)\n",
    "print(y)"
   ]
  },
  {
   "cell_type": "code",
   "execution_count": 7,
   "metadata": {},
   "outputs": [],
   "source": [
    "# generate input.json which the key is \"in\" and the value is tolist on x (shape = (128,128,3))\n",
    "\n",
    "# for i in range(len(X_test)):\n",
    "#     X = [str(int(x * float(10**18))) for x in X_test[i].flatten().tolist()]\n",
    "#     X = np.array(X).reshape(28, 28, 1).tolist() \n",
    "#     with open(f'X_test/{i}.json', 'w') as f:\n",
    "#         json.dump({\"in\": X}, f)\n",
    "import json\n",
    "random_data = np.random.rand(32, 32, 3)\n",
    "random_data *= (10**18)\n",
    "\n",
    "with open('input.json', 'w') as f:\n",
    "    json.dump({\"in\": random_data.tolist()}, f)"
   ]
  },
  {
   "cell_type": "code",
   "execution_count": 3,
   "metadata": {},
   "outputs": [
    {
     "name": "stdout",
     "output_type": "stream",
     "text": [
      "Model: \"model\"\n",
      "_________________________________________________________________\n",
      " Layer (type)                Output Shape              Param #   \n",
      "=================================================================\n",
      " input_1 (InputLayer)        [(None, 32, 32, 3)]       0         \n",
      "                                                                 \n",
      " conv2d (Conv2D)             (None, 32, 32, 1)         27        \n",
      "                                                                 \n",
      " batch_normalization (Batch  (None, 32, 32, 1)         4         \n",
      " Normalization)                                                  \n",
      "                                                                 \n",
      " re_lu (ReLU)                (None, 32, 32, 1)         0         \n",
      "                                                                 \n",
      " global_average_pooling2d (  (None, 1)                 0         \n",
      " GlobalAveragePooling2D)                                         \n",
      "                                                                 \n",
      " dense (Dense)               (None, 2)                 4         \n",
      "                                                                 \n",
      "=================================================================\n",
      "Total params: 35 (140.00 Byte)\n",
      "Trainable params: 33 (132.00 Byte)\n",
      "Non-trainable params: 2 (8.00 Byte)\n",
      "_________________________________________________________________\n"
     ]
    }
   ],
   "source": [
    "model.summary()"
   ]
  },
  {
   "cell_type": "code",
   "execution_count": 4,
   "metadata": {},
   "outputs": [
    {
     "name": "stdout",
     "output_type": "stream",
     "text": [
      "[1]\n"
     ]
    }
   ],
   "source": [
    "# finding output shapes of layers model\n",
    "layers = []\n",
    "\n",
    "for layer in model.layers:\n",
    "    if \"conv\" in layer.name:\n",
    "        layer_output = layer.output\n",
    "        if isinstance(layer_output, list):\n",
    "            for l in layer_output:\n",
    "                layers.append(l.shape[-1])\n",
    "        else:\n",
    "            layers.append(layer_output.shape[-1])\n",
    "\n",
    "print(layers)"
   ]
  },
  {
   "cell_type": "code",
   "execution_count": 5,
   "metadata": {},
   "outputs": [
    {
     "name": "stdout",
     "output_type": "stream",
     "text": [
      "input_1 [(None, 32, 32, 3)]\n",
      "conv2d (None, 32, 32, 1)\n",
      "batch_normalization (None, 32, 32, 1)\n",
      "re_lu (None, 32, 32, 1)\n",
      "global_average_pooling2d (None, 1)\n",
      "dense (None, 2)\n"
     ]
    }
   ],
   "source": [
    "for layer in model.layers:\n",
    "    print(layer.name, layer.output_shape)"
   ]
  },
  {
   "cell_type": "code",
   "execution_count": null,
   "metadata": {},
   "outputs": [],
   "source": []
  }
 ],
 "metadata": {
  "kernelspec": {
   "display_name": "zkml_bench_env",
   "language": "python",
   "name": "python3"
  },
  "language_info": {
   "codemirror_mode": {
    "name": "ipython",
    "version": 3
   },
   "file_extension": ".py",
   "mimetype": "text/x-python",
   "name": "python",
   "nbconvert_exporter": "python",
   "pygments_lexer": "ipython3",
   "version": "3.9.6"
  }
 },
 "nbformat": 4,
 "nbformat_minor": 2
}
